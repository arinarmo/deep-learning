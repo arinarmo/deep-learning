{
 "cells": [
  {
   "cell_type": "markdown",
   "metadata": {
    "collapsed": true
   },
   "source": [
    "# Image Classification\n",
    "In this project, you'll classify images from the [CIFAR-10 dataset](https://www.cs.toronto.edu/~kriz/cifar.html).  The dataset consists of airplanes, dogs, cats, and other objects. You'll preprocess the images, then train a convolutional neural network on all the samples. The images need to be normalized and the labels need to be one-hot encoded.  You'll get to apply what you learned and build a convolutional, max pooling, dropout, and fully connected layers.  At the end, you'll get to see your neural network's predictions on the sample images.\n",
    "## Get the Data\n",
    "Run the following cell to download the [CIFAR-10 dataset for python](https://www.cs.toronto.edu/~kriz/cifar-10-python.tar.gz)."
   ]
  },
  {
   "cell_type": "code",
   "execution_count": 1,
   "metadata": {},
   "outputs": [
    {
     "name": "stdout",
     "output_type": "stream",
     "text": [
      "All files found!\n"
     ]
    }
   ],
   "source": [
    "\"\"\"\n",
    "DON'T MODIFY ANYTHING IN THIS CELL THAT IS BELOW THIS LINE\n",
    "\"\"\"\n",
    "from urllib.request import urlretrieve\n",
    "from os.path import isfile, isdir\n",
    "from tqdm import tqdm\n",
    "import problem_unittests as tests\n",
    "import tarfile\n",
    "\n",
    "cifar10_dataset_folder_path = 'cifar-10-batches-py'\n",
    "\n",
    "# Use Floyd's cifar-10 dataset if present\n",
    "floyd_cifar10_location = '/input/cifar-10/python.tar.gz'\n",
    "if isfile(floyd_cifar10_location):\n",
    "    tar_gz_path = floyd_cifar10_location\n",
    "else:\n",
    "    tar_gz_path = 'cifar-10-python.tar.gz'\n",
    "\n",
    "class DLProgress(tqdm):\n",
    "    last_block = 0\n",
    "\n",
    "    def hook(self, block_num=1, block_size=1, total_size=None):\n",
    "        self.total = total_size\n",
    "        self.update((block_num - self.last_block) * block_size)\n",
    "        self.last_block = block_num\n",
    "\n",
    "if not isfile(tar_gz_path):\n",
    "    with DLProgress(unit='B', unit_scale=True, miniters=1, desc='CIFAR-10 Dataset') as pbar:\n",
    "        urlretrieve(\n",
    "            'https://www.cs.toronto.edu/~kriz/cifar-10-python.tar.gz',\n",
    "            tar_gz_path,\n",
    "            pbar.hook)\n",
    "\n",
    "if not isdir(cifar10_dataset_folder_path):\n",
    "    with tarfile.open(tar_gz_path) as tar:\n",
    "        tar.extractall()\n",
    "        tar.close()\n",
    "\n",
    "\n",
    "tests.test_folder_path(cifar10_dataset_folder_path)"
   ]
  },
  {
   "cell_type": "markdown",
   "metadata": {},
   "source": [
    "## Explore the Data\n",
    "The dataset is broken into batches to prevent your machine from running out of memory.  The CIFAR-10 dataset consists of 5 batches, named `data_batch_1`, `data_batch_2`, etc.. Each batch contains the labels and images that are one of the following:\n",
    "* airplane\n",
    "* automobile\n",
    "* bird\n",
    "* cat\n",
    "* deer\n",
    "* dog\n",
    "* frog\n",
    "* horse\n",
    "* ship\n",
    "* truck\n",
    "\n",
    "Understanding a dataset is part of making predictions on the data.  Play around with the code cell below by changing the `batch_id` and `sample_id`. The `batch_id` is the id for a batch (1-5). The `sample_id` is the id for a image and label pair in the batch.\n",
    "\n",
    "Ask yourself \"What are all possible labels?\", \"What is the range of values for the image data?\", \"Are the labels in order or random?\".  Answers to questions like these will help you preprocess the data and end up with better predictions."
   ]
  },
  {
   "cell_type": "code",
   "execution_count": 2,
   "metadata": {},
   "outputs": [
    {
     "name": "stdout",
     "output_type": "stream",
     "text": [
      "\n",
      "Stats of batch 1:\n",
      "Samples: 10000\n",
      "Label Counts: {0: 1005, 1: 974, 2: 1032, 3: 1016, 4: 999, 5: 937, 6: 1030, 7: 1001, 8: 1025, 9: 981}\n",
      "First 20 Labels: [6, 9, 9, 4, 1, 1, 2, 7, 8, 3, 4, 7, 7, 2, 9, 9, 9, 3, 2, 6]\n",
      "\n",
      "Example of Image 5:\n",
      "Image - Min Value: 0 Max Value: 252\n",
      "Image - Shape: (32, 32, 3)\n",
      "Label - Label Id: 1 Name: automobile\n"
     ]
    },
    {
     "data": {
      "image/png": "[encoded data removed]",
      "text/plain": [
       "<matplotlib.figure.Figure at 0x7fd23bc88748>"
      ]
     },
     "metadata": {
      "image/png": {
       "height": 250,
       "width": 253
      }
     },
     "output_type": "display_data"
    }
   ],
   "source": [
    "%matplotlib inline\n",
    "%config InlineBackend.figure_format = 'retina'\n",
    "\n",
    "import helper\n",
    "import numpy as np\n",
    "\n",
    "# Explore the dataset\n",
    "batch_id = 1\n",
    "sample_id = 5\n",
    "helper.display_stats(cifar10_dataset_folder_path, batch_id, sample_id)"
   ]
  },
  {
   "cell_type": "markdown",
   "metadata": {},
   "source": [
    "## Implement Preprocess Functions\n",
    "### Normalize\n",
    "In the cell below, implement the `normalize` function to take in image data, `x`, and return it as a normalized Numpy array. The values should be in the range of 0 to 1, inclusive.  The return object should be the same shape as `x`."
   ]
  },
  {
   "cell_type": "code",
   "execution_count": 3,
   "metadata": {},
   "outputs": [
    {
     "name": "stdout",
     "output_type": "stream",
     "text": [
      "Tests Passed\n"
     ]
    }
   ],
   "source": [
    "def normalize(x):\n",
    "    \"\"\"\n",
    "    Normalize a list of sample image data in the range of 0 to 1\n",
    "    : x: List of image data.  The image shape is (32, 32, 3)\n",
    "    : return: Numpy array of normalize data\n",
    "    \"\"\"\n",
    "    return x/255\n",
    "\n",
    "\n",
    "\"\"\"\n",
    "DON'T MODIFY ANYTHING IN THIS CELL THAT IS BELOW THIS LINE\n",
    "\"\"\"\n",
    "tests.test_normalize(normalize)"
   ]
  },
  {
   "cell_type": "markdown",
   "metadata": {},
   "source": [
    "### One-hot encode\n",
    "Just like the previous code cell, you'll be implementing a function for preprocessing.  This time, you'll implement the `one_hot_encode` function. The input, `x`, are a list of labels.  Implement the function to return the list of labels as One-Hot encoded Numpy array.  The possible values for labels are 0 to 9. The one-hot encoding function should return the same encoding for each value between each call to `one_hot_encode`.  Make sure to save the map of encodings outside the function.\n",
    "\n",
    "Hint: Don't reinvent the wheel."
   ]
  },
  {
   "cell_type": "code",
   "execution_count": 4,
   "metadata": {},
   "outputs": [
    {
     "name": "stdout",
     "output_type": "stream",
     "text": [
      "Tests Passed\n"
     ]
    }
   ],
   "source": [
    "n_labels=10\n",
    "def one_hot_encode(x):\n",
    "    \"\"\"\n",
    "    One hot encode a list of sample labels. Return a one-hot encoded vector for each label.\n",
    "    : x: List of sample Labels\n",
    "    : return: Numpy array of one-hot encoded labels\n",
    "    \"\"\"\n",
    "    ohe = np.zeros((len(x), n_labels))\n",
    "    for i, label in enumerate(x):\n",
    "        ohe[i][label] = 1\n",
    "    return ohe\n",
    "\n",
    "\n",
    "\"\"\"\n",
    "DON'T MODIFY ANYTHING IN THIS CELL THAT IS BELOW THIS LINE\n",
    "\"\"\"\n",
    "tests.test_one_hot_encode(one_hot_encode)"
   ]
  },
  {
   "cell_type": "markdown",
   "metadata": {},
   "source": [
    "### Randomize Data\n",
    "As you saw from exploring the data above, the order of the samples are randomized.  It doesn't hurt to randomize it again, but you don't need to for this dataset."
   ]
  },
  {
   "cell_type": "markdown",
   "metadata": {},
   "source": [
    "## Preprocess all the data and save it\n",
    "Running the code cell below will preprocess all the CIFAR-10 data and save it to file. The code below also uses 10% of the training data for validation."
   ]
  },
  {
   "cell_type": "code",
   "execution_count": 5,
   "metadata": {
    "collapsed": true
   },
   "outputs": [],
   "source": [
    "\"\"\"\n",
    "DON'T MODIFY ANYTHING IN THIS CELL\n",
    "\"\"\"\n",
    "# Preprocess Training, Validation, and Testing Data\n",
    "helper.preprocess_and_save_data(cifar10_dataset_folder_path, normalize, one_hot_encode)"
   ]
  },
  {
   "cell_type": "markdown",
   "metadata": {},
   "source": [
    "# Check Point\n",
    "This is your first checkpoint.  If you ever decide to come back to this notebook or have to restart the notebook, you can start from here.  The preprocessed data has been saved to disk."
   ]
  },
  {
   "cell_type": "code",
   "execution_count": 18,
   "metadata": {
    "collapsed": true
   },
   "outputs": [],
   "source": [
    "\"\"\"\n",
    "DON'T MODIFY ANYTHING IN THIS CELL\n",
    "\"\"\"\n",
    "import pickle\n",
    "import problem_unittests as tests\n",
    "import helper\n",
    "\n",
    "# Load the Preprocessed Validation data\n",
    "valid_features, valid_labels = pickle.load(open('preprocess_validation.p', mode='rb'))"
   ]
  },
  {
   "cell_type": "markdown",
   "metadata": {},
   "source": [
    "## Build the network\n",
    "For the neural network, you'll build each layer into a function.  Most of the code you've seen has been outside of functions. To test your code more thoroughly, we require that you put each layer in a function.  This allows us to give you better feedback and test for simple mistakes using our unittests before you submit your project.\n",
    "\n",
    ">**Note:** If you're finding it hard to dedicate enough time for this course each week, we've provided a small shortcut to this part of the project. In the next couple of problems, you'll have the option to use classes from the [TensorFlow Layers](https://www.tensorflow.org/api_docs/python/tf/layers) or [TensorFlow Layers (contrib)](https://www.tensorflow.org/api_guides/python/contrib.layers) packages to build each layer, except the layers you build in the \"Convolutional and Max Pooling Layer\" section.  TF Layers is similar to Keras's and TFLearn's abstraction to layers, so it's easy to pickup.\n",
    "\n",
    ">However, if you would like to get the most out of this course, try to solve all the problems _without_ using anything from the TF Layers packages. You **can** still use classes from other packages that happen to have the same name as ones you find in TF Layers! For example, instead of using the TF Layers version of the `conv2d` class, [tf.layers.conv2d](https://www.tensorflow.org/api_docs/python/tf/layers/conv2d), you would want to use the TF Neural Network version of `conv2d`, [tf.nn.conv2d](https://www.tensorflow.org/api_docs/python/tf/nn/conv2d). \n",
    "\n",
    "Let's begin!\n",
    "\n",
    "### Input\n",
    "The neural network needs to read the image data, one-hot encoded labels, and dropout keep probability. Implement the following functions\n",
    "* Implement `neural_net_image_input`\n",
    " * Return a [TF Placeholder](https://www.tensorflow.org/api_docs/python/tf/placeholder)\n",
    " * Set the shape using `image_shape` with batch size set to `None`.\n",
    " * Name the TensorFlow placeholder \"x\" using the TensorFlow `name` parameter in the [TF Placeholder](https://www.tensorflow.org/api_docs/python/tf/placeholder).\n",
    "* Implement `neural_net_label_input`\n",
    " * Return a [TF Placeholder](https://www.tensorflow.org/api_docs/python/tf/placeholder)\n",
    " * Set the shape using `n_classes` with batch size set to `None`.\n",
    " * Name the TensorFlow placeholder \"y\" using the TensorFlow `name` parameter in the [TF Placeholder](https://www.tensorflow.org/api_docs/python/tf/placeholder).\n",
    "* Implement `neural_net_keep_prob_input`\n",
    " * Return a [TF Placeholder](https://www.tensorflow.org/api_docs/python/tf/placeholder) for dropout keep probability.\n",
    " * Name the TensorFlow placeholder \"keep_prob\" using the TensorFlow `name` parameter in the [TF Placeholder](https://www.tensorflow.org/api_docs/python/tf/placeholder).\n",
    "\n",
    "These names will be used at the end of the project to load your saved model.\n",
    "\n",
    "Note: `None` for shapes in TensorFlow allow for a dynamic size."
   ]
  },
  {
   "cell_type": "code",
   "execution_count": 19,
   "metadata": {},
   "outputs": [
    {
     "name": "stdout",
     "output_type": "stream",
     "text": [
      "Image Input Tests Passed.\n",
      "Label Input Tests Passed.\n",
      "Keep Prob Tests Passed.\n"
     ]
    }
   ],
   "source": [
    "import tensorflow as tf\n",
    "\n",
    "def neural_net_image_input(image_shape):\n",
    "    \"\"\"\n",
    "    Return a Tensor for a batch of image input\n",
    "    : image_shape: Shape of the images\n",
    "    : return: Tensor for image input.\n",
    "    \"\"\"\n",
    "    # TODO: Implement Function\n",
    "    shape = [None]\n",
    "    shape.extend(image_shape)\n",
    "    return tf.placeholder(tf.float32, shape, name=\"x\")\n",
    "\n",
    "\n",
    "def neural_net_label_input(n_classes):\n",
    "    \"\"\"\n",
    "    Return a Tensor for a batch of label input\n",
    "    : n_classes: Number of classes\n",
    "    : return: Tensor for label input.\n",
    "    \"\"\"\n",
    "    # TODO: Implement Function\n",
    "    return tf.placeholder(tf.float32, [None, n_classes], name=\"y\")\n",
    "\n",
    "\n",
    "def neural_net_keep_prob_input():\n",
    "    \"\"\"\n",
    "    Return a Tensor for keep probability\n",
    "    : return: Tensor for keep probability.\n",
    "    \"\"\"\n",
    "    # TODO: Implement Function\n",
    "    return tf.placeholder(tf.float32, name=\"keep_prob\")\n",
    "\n",
    "\n",
    "\"\"\"\n",
    "DON'T MODIFY ANYTHING IN THIS CELL THAT IS BELOW THIS LINE\n",
    "\"\"\"\n",
    "tf.reset_default_graph()\n",
    "tests.test_nn_image_inputs(neural_net_image_input)\n",
    "tests.test_nn_label_inputs(neural_net_label_input)\n",
    "tests.test_nn_keep_prob_inputs(neural_net_keep_prob_input)"
   ]
  },
  {
   "cell_type": "markdown",
   "metadata": {},
   "source": [
    "### Convolution and Max Pooling Layer\n",
    "Convolution layers have a lot of success with images. For this code cell, you should implement the function `conv2d_maxpool` to apply convolution then max pooling:\n",
    "* Create the weight and bias using `conv_ksize`, `conv_num_outputs` and the shape of `x_tensor`.\n",
    "* Apply a convolution to `x_tensor` using weight and `conv_strides`.\n",
    " * We recommend you use same padding, but you're welcome to use any padding.\n",
    "* Add bias\n",
    "* Add a nonlinear activation to the convolution.\n",
    "* Apply Max Pooling using `pool_ksize` and `pool_strides`.\n",
    " * We recommend you use same padding, but you're welcome to use any padding.\n",
    "\n",
    "**Note:** You **can't** use [TensorFlow Layers](https://www.tensorflow.org/api_docs/python/tf/layers) or [TensorFlow Layers (contrib)](https://www.tensorflow.org/api_guides/python/contrib.layers) for **this** layer, but you can still use TensorFlow's [Neural Network](https://www.tensorflow.org/api_docs/python/tf/nn) package. You may still use the shortcut option for all the **other** layers."
   ]
  },
  {
   "cell_type": "code",
   "execution_count": 20,
   "metadata": {},
   "outputs": [
    {
     "name": "stdout",
     "output_type": "stream",
     "text": [
      "Tests Passed\n"
     ]
    }
   ],
   "source": [
    "import math\n",
    "def conv2d_maxpool(x_tensor, conv_num_outputs, conv_ksize, conv_strides, pool_ksize, pool_strides):\n",
    "    \"\"\"\n",
    "    Apply convolution then max pooling to x_tensor\n",
    "    :param x_tensor: TensorFlow Tensor\n",
    "    :param conv_num_outputs: Number of outputs for the convolutional layer\n",
    "    :param conv_ksize: kernal size 2-D Tuple for the convolutional layer\n",
    "    :param conv_strides: Stride 2-D Tuple for convolution\n",
    "    :param pool_ksize: kernal size 2-D Tuple for pool\n",
    "    :param pool_strides: Stride 2-D Tuple for pool\n",
    "    : return: A tensor that represents convolution and max pooling of x_tensor\n",
    "    \"\"\"\n",
    "    x_depth = x_tensor.get_shape().as_list()[-1]\n",
    "    weight_sd = 1./math.sqrt(conv_num_outputs)\n",
    "    \n",
    "    conv_weights_shape = [conv_ksize[0], conv_ksize[1], x_depth, conv_num_outputs]    \n",
    "    conv_weights = tf.Variable(tf.truncated_normal(conv_weights_shape, stddev=weight_sd))\n",
    "    strides_shape = [1, conv_strides[0], conv_strides[1], 1]\n",
    "    conv_bias = tf.Variable(tf.truncated_normal([conv_num_outputs], stddev=weight_sd))\n",
    "    \n",
    "    conv_layer = tf.nn.conv2d(x_tensor, conv_weights, strides=strides_shape, padding='SAME')\n",
    "    conv_layer = tf.nn.bias_add(conv_layer, conv_bias)\n",
    "    conv_layer = tf.nn.relu(conv_layer)\n",
    "    \n",
    "    maxp_ksize = [1, pool_ksize[0], pool_ksize[1], 1]\n",
    "    maxp_strides = [1, pool_strides[0], pool_strides[1], 1]\n",
    "    \n",
    "    maxp_layer = tf.nn.max_pool(conv_layer, maxp_ksize, strides=maxp_strides, padding='SAME')\n",
    "    \n",
    "    return maxp_layer\n",
    "\n",
    "\n",
    "\"\"\"\n",
    "DON'T MODIFY ANYTHING IN THIS CELL THAT IS BELOW THIS LINE\n",
    "\"\"\"\n",
    "tests.test_con_pool(conv2d_maxpool)"
   ]
  },
  {
   "cell_type": "markdown",
   "metadata": {},
   "source": [
    "### Flatten Layer\n",
    "Implement the `flatten` function to change the dimension of `x_tensor` from a 4-D tensor to a 2-D tensor.  The output should be the shape (*Batch Size*, *Flattened Image Size*). Shortcut option: you can use classes from the [TensorFlow Layers](https://www.tensorflow.org/api_docs/python/tf/layers) or [TensorFlow Layers (contrib)](https://www.tensorflow.org/api_guides/python/contrib.layers) packages for this layer. For more of a challenge, only use other TensorFlow packages."
   ]
  },
  {
   "cell_type": "code",
   "execution_count": 21,
   "metadata": {},
   "outputs": [
    {
     "name": "stdout",
     "output_type": "stream",
     "text": [
      "Tests Passed\n"
     ]
    }
   ],
   "source": [
    "def flatten(x_tensor):\n",
    "    \"\"\"\n",
    "    Flatten x_tensor to (Batch Size, Flattened Image Size)\n",
    "    : x_tensor: A tensor of size (Batch Size, ...), where ... are the image dimensions.\n",
    "    : return: A tensor of size (Batch Size, Flattened Image Size).\n",
    "    \"\"\"\n",
    "    dim = np.array(x_tensor.get_shape().as_list())\n",
    "    new_size = dim[1:].prod()\n",
    "    \n",
    "    return tf.reshape(x_tensor, [-1, new_size])\n",
    "\n",
    "\n",
    "\"\"\"\n",
    "DON'T MODIFY ANYTHING IN THIS CELL THAT IS BELOW THIS LINE\n",
    "\"\"\"\n",
    "tests.test_flatten(flatten)"
   ]
  },
  {
   "cell_type": "markdown",
   "metadata": {},
   "source": [
    "### Fully-Connected Layer\n",
    "Implement the `fully_conn` function to apply a fully connected layer to `x_tensor` with the shape (*Batch Size*, *num_outputs*). Shortcut option: you can use classes from the [TensorFlow Layers](https://www.tensorflow.org/api_docs/python/tf/layers) or [TensorFlow Layers (contrib)](https://www.tensorflow.org/api_guides/python/contrib.layers) packages for this layer. For more of a challenge, only use other TensorFlow packages."
   ]
  },
  {
   "cell_type": "code",
   "execution_count": 22,
   "metadata": {},
   "outputs": [
    {
     "name": "stdout",
     "output_type": "stream",
     "text": [
      "Tests Passed\n"
     ]
    }
   ],
   "source": [
    "def fully_conn(x_tensor, num_outputs):\n",
    "    \"\"\"\n",
    "    Apply a fully connected layer to x_tensor using weight and bias\n",
    "    : x_tensor: A 2-D tensor where the first dimension is batch size.\n",
    "    : num_outputs: The number of output that the new tensor should be.\n",
    "    : return: A 2-D tensor where the second dimension is num_outputs.\n",
    "    \"\"\"\n",
    "    vector_size = x_tensor.get_shape().as_list()[1]\n",
    "    weight_sd = 1/math.sqrt(num_outputs)\n",
    "    \n",
    "    bias = tf.Variable(tf.truncated_normal([num_outputs], stddev=weight_sd))\n",
    "    weights = tf.Variable(tf.truncated_normal([vector_size, num_outputs], stddev=weight_sd))\n",
    "    \n",
    "    lin = tf.add(tf.matmul(x_tensor, weights), bias)\n",
    "    return tf.nn.relu(lin)\n",
    "\n",
    "\n",
    "\"\"\"\n",
    "DON'T MODIFY ANYTHING IN THIS CELL THAT IS BELOW THIS LINE\n",
    "\"\"\"\n",
    "tests.test_fully_conn(fully_conn)"
   ]
  },
  {
   "cell_type": "markdown",
   "metadata": {},
   "source": [
    "### Output Layer\n",
    "Implement the `output` function to apply a fully connected layer to `x_tensor` with the shape (*Batch Size*, *num_outputs*). Shortcut option: you can use classes from the [TensorFlow Layers](https://www.tensorflow.org/api_docs/python/tf/layers) or [TensorFlow Layers (contrib)](https://www.tensorflow.org/api_guides/python/contrib.layers) packages for this layer. For more of a challenge, only use other TensorFlow packages.\n",
    "\n",
    "**Note:** Activation, softmax, or cross entropy should **not** be applied to this."
   ]
  },
  {
   "cell_type": "code",
   "execution_count": 23,
   "metadata": {},
   "outputs": [
    {
     "name": "stdout",
     "output_type": "stream",
     "text": [
      "Tests Passed\n"
     ]
    }
   ],
   "source": [
    "def output(x_tensor, num_outputs):\n",
    "    \"\"\"\n",
    "    Apply a output layer to x_tensor using weight and bias\n",
    "    : x_tensor: A 2-D tensor where the first dimension is batch size.\n",
    "    : num_outputs: The number of output that the new tensor should be.\n",
    "    : return: A 2-D tensor where the second dimension is num_outputs.\n",
    "    \"\"\"\n",
    "    vector_size = x_tensor.get_shape().as_list()[1]\n",
    "    weight_sd = 1./math.sqrt(num_outputs)\n",
    "    \n",
    "    bias = tf.Variable(tf.truncated_normal([num_outputs], stddev=weight_sd))\n",
    "    weights = tf.Variable(tf.truncated_normal([vector_size, num_outputs], stddev=weight_sd))\n",
    "    return tf.add(tf.matmul(x_tensor, weights), bias)\n",
    "\n",
    "\n",
    "\"\"\"\n",
    "DON'T MODIFY ANYTHING IN THIS CELL THAT IS BELOW THIS LINE\n",
    "\"\"\"\n",
    "tests.test_output(output)"
   ]
  },
  {
   "cell_type": "markdown",
   "metadata": {},
   "source": [
    "### Create Convolutional Model\n",
    "Implement the function `conv_net` to create a convolutional neural network model. The function takes in a batch of images, `x`, and outputs logits.  Use the layers you created above to create this model:\n",
    "\n",
    "* Apply 1, 2, or 3 Convolution and Max Pool layers\n",
    "* Apply a Flatten Layer\n",
    "* Apply 1, 2, or 3 Fully Connected Layers\n",
    "* Apply an Output Layer\n",
    "* Return the output\n",
    "* Apply [TensorFlow's Dropout](https://www.tensorflow.org/api_docs/python/tf/nn/dropout) to one or more layers in the model using `keep_prob`. "
   ]
  },
  {
   "cell_type": "code",
   "execution_count": 24,
   "metadata": {},
   "outputs": [
    {
     "name": "stdout",
     "output_type": "stream",
     "text": [
      "(?, 32, 32, 3)\n",
      "(?, 16, 16, 256)\n",
      "(?, 8, 8, 128)\n",
      "(?, 8192)\n",
      "(?, 2048)\n",
      "(?, 1024)\n",
      "(?, 512)\n",
      "(?, 10)\n",
      "(?, 32, 32, 3)\n",
      "(?, 16, 16, 256)\n",
      "(?, 8, 8, 128)\n",
      "(?, 8192)\n",
      "(?, 2048)\n",
      "(?, 1024)\n",
      "(?, 512)\n",
      "(?, 10)\n",
      "Neural Network Built!\n"
     ]
    }
   ],
   "source": [
    "def conv_net(x, keep_prob):\n",
    "    \"\"\"\n",
    "    Create a convolutional neural network model\n",
    "    : x: Placeholder tensor that holds image data.\n",
    "    : keep_prob: Placeholder tensor that hold dropout keep probability.\n",
    "    : return: Tensor that represents logits\n",
    "    \"\"\"\n",
    "    conv_params = [\n",
    "        {\n",
    "            \"conv_num_outputs\": 256,\n",
    "            \"conv_ksize\": (4, 4),\n",
    "            \"conv_strides\": (1, 1),\n",
    "            \"pool_ksize\": (2, 2),\n",
    "            \"pool_strides\": (2, 2)\n",
    "        },\n",
    "        {\n",
    "            \"conv_num_outputs\": 128,\n",
    "            \"conv_ksize\": (4, 4),\n",
    "            \"conv_strides\": (1, 1),\n",
    "            \"pool_ksize\": (2, 2),\n",
    "            \"pool_strides\": (2, 2)\n",
    "        }       \n",
    "    ]\n",
    "    conv_layer = x\n",
    "    print(conv_layer.get_shape())\n",
    "    for params in conv_params:\n",
    "        conv_layer = conv2d_maxpool(conv_layer, **params)\n",
    "        print(conv_layer.get_shape())\n",
    "    \n",
    "    flattened = flatten(conv_layer)\n",
    "    print(flattened.get_shape())\n",
    "\n",
    "    fc_params = [\n",
    "        {\n",
    "            \"num_outputs\": 2048\n",
    "        },\n",
    "        {\n",
    "            \"num_outputs\": 1024\n",
    "        },\n",
    "        {\n",
    "            \"num_outputs\": 512\n",
    "        }        \n",
    "    ]\n",
    "    fc_layer = flattened\n",
    "    for params in fc_params:\n",
    "        fc_layer = fully_conn(fc_layer, **params)\n",
    "        fc_layer = tf.nn.dropout(fc_layer, keep_prob)\n",
    "        print(fc_layer.get_shape())    \n",
    "    \n",
    "        \n",
    "    output_layer = output(fc_layer, 10)\n",
    "    print(output_layer.get_shape())\n",
    "    \n",
    "    return output_layer\n",
    "\n",
    "\n",
    "\n",
    "\"\"\"\n",
    "DON'T MODIFY ANYTHING IN THIS CELL THAT IS BELOW THIS LINE\n",
    "\"\"\"\n",
    "\n",
    "##############################\n",
    "## Build the Neural Network ##\n",
    "##############################\n",
    "\n",
    "# Remove previous weights, bias, inputs, etc..\n",
    "tf.reset_default_graph()\n",
    "\n",
    "# Inputs\n",
    "x = neural_net_image_input((32, 32, 3))\n",
    "y = neural_net_label_input(10)\n",
    "keep_prob = neural_net_keep_prob_input()\n",
    "\n",
    "# Model\n",
    "logits = conv_net(x, keep_prob)\n",
    "\n",
    "# Name logits Tensor, so that is can be loaded from disk after training\n",
    "logits = tf.identity(logits, name='logits')\n",
    "\n",
    "# Loss and Optimizer\n",
    "cost = tf.reduce_mean(tf.nn.softmax_cross_entropy_with_logits(logits=logits, labels=y))\n",
    "optimizer = tf.train.AdamOptimizer().minimize(cost)\n",
    "\n",
    "# Accuracy\n",
    "correct_pred = tf.equal(tf.argmax(logits, 1), tf.argmax(y, 1))\n",
    "accuracy = tf.reduce_mean(tf.cast(correct_pred, tf.float32), name='accuracy')\n",
    "\n",
    "tests.test_conv_net(conv_net)"
   ]
  },
  {
   "cell_type": "markdown",
   "metadata": {},
   "source": [
    "## Train the Neural Network\n",
    "### Single Optimization\n",
    "Implement the function `train_neural_network` to do a single optimization.  The optimization should use `optimizer` to optimize in `session` with a `feed_dict` of the following:\n",
    "* `x` for image input\n",
    "* `y` for labels\n",
    "* `keep_prob` for keep probability for dropout\n",
    "\n",
    "This function will be called for each batch, so `tf.global_variables_initializer()` has already been called.\n",
    "\n",
    "Note: Nothing needs to be returned. This function is only optimizing the neural network."
   ]
  },
  {
   "cell_type": "code",
   "execution_count": 25,
   "metadata": {},
   "outputs": [
    {
     "name": "stdout",
     "output_type": "stream",
     "text": [
      "Tests Passed\n"
     ]
    }
   ],
   "source": [
    "def train_neural_network(session, optimizer, keep_probability, feature_batch, label_batch):\n",
    "    \"\"\"\n",
    "    Optimize the session on a batch of images and labels\n",
    "    : session: Current TensorFlow session\n",
    "    : optimizer: TensorFlow optimizer function\n",
    "    : keep_probability: keep probability\n",
    "    : feature_batch: Batch of Numpy image data\n",
    "    : label_batch: Batch of Numpy label data\n",
    "    \"\"\"\n",
    "    # TODO: Implement Function\n",
    "    session.run(optimizer, feed_dict={\n",
    "        x: feature_batch,\n",
    "        y: label_batch,\n",
    "        keep_prob: keep_probability\n",
    "    })\n",
    "\n",
    "\n",
    "\"\"\"\n",
    "DON'T MODIFY ANYTHING IN THIS CELL THAT IS BELOW THIS LINE\n",
    "\"\"\"\n",
    "tests.test_train_nn(train_neural_network)"
   ]
  },
  {
   "cell_type": "markdown",
   "metadata": {},
   "source": [
    "### Show Stats\n",
    "Implement the function `print_stats` to print loss and validation accuracy.  Use the global variables `valid_features` and `valid_labels` to calculate validation accuracy.  Use a keep probability of `1.0` to calculate the loss and validation accuracy."
   ]
  },
  {
   "cell_type": "code",
   "execution_count": 26,
   "metadata": {
    "collapsed": true
   },
   "outputs": [],
   "source": [
    "def print_stats(session, feature_batch, label_batch, cost, accuracy):\n",
    "    \"\"\"\n",
    "    Print information about loss and validation accuracy\n",
    "    : session: Current TensorFlow session\n",
    "    : feature_batch: Batch of Numpy image data\n",
    "    : label_batch: Batch of Numpy label data\n",
    "    : cost: TensorFlow cost function\n",
    "    : accuracy: TensorFlow accuracy function\n",
    "    \"\"\"\n",
    "    # TODO: Implement Function\n",
    "    sess_cost = session.run(cost, feed_dict={\n",
    "        x: feature_batch,\n",
    "        y: label_batch,\n",
    "        keep_prob: 1\n",
    "    })\n",
    "    \n",
    "    # Test in batches because there's not enough GPU memory to test all at once\n",
    "    test_batch = 500\n",
    "    n_test = valid_features.shape[0]\n",
    "    n_batches = math.ceil(n_test/test_batch)\n",
    "    acc = np.zeros(n_batches)\n",
    "    for i in range(n_batches):\n",
    "        acc[i] = session.run(accuracy, feed_dict={\n",
    "            x: valid_features[(i*test_batch):((i+1)*test_batch)],\n",
    "            y: valid_labels[(i*test_batch):((i+1)*test_batch)],\n",
    "            keep_prob: 1\n",
    "        })\n",
    "    sess_acc = acc.mean()\n",
    "    print(\"Cost: {}, Accuracy: {}\".format(sess_cost, sess_acc))"
   ]
  },
  {
   "cell_type": "markdown",
   "metadata": {},
   "source": [
    "### Hyperparameters\n",
    "Tune the following parameters:\n",
    "* Set `epochs` to the number of iterations until the network stops learning or start overfitting\n",
    "* Set `batch_size` to the highest number that your machine has memory for.  Most people set them to common sizes of memory:\n",
    " * 64\n",
    " * 128\n",
    " * 256\n",
    " * ...\n",
    "* Set `keep_probability` to the probability of keeping a node using dropout"
   ]
  },
  {
   "cell_type": "code",
   "execution_count": 27,
   "metadata": {
    "collapsed": true
   },
   "outputs": [],
   "source": [
    "# TODO: Tune Parameters\n",
    "epochs = 15\n",
    "batch_size = 128\n",
    "keep_probability = 0.5"
   ]
  },
  {
   "cell_type": "markdown",
   "metadata": {},
   "source": [
    "### Train on a Single CIFAR-10 Batch\n",
    "Instead of training the neural network on all the CIFAR-10 batches of data, let's use a single batch. This should save time while you iterate on the model to get a better accuracy.  Once the final validation accuracy is 50% or greater, run the model on all the data in the next section."
   ]
  },
  {
   "cell_type": "code",
   "execution_count": 28,
   "metadata": {},
   "outputs": [
    {
     "name": "stdout",
     "output_type": "stream",
     "text": [
      "Checking the Training on a Single Batch...\n",
      "Epoch  1, CIFAR-10 Batch 1:  Cost: 2.176562786102295, Accuracy: 0.2276000052690506\n",
      "Epoch  2, CIFAR-10 Batch 1:  Cost: 1.978840708732605, Accuracy: 0.3137999981641769\n",
      "Epoch  3, CIFAR-10 Batch 1:  Cost: 1.8225927352905273, Accuracy: 0.34500000178813933\n",
      "Epoch  4, CIFAR-10 Batch 1:  Cost: 1.5800617933273315, Accuracy: 0.40299999713897705\n",
      "Epoch  5, CIFAR-10 Batch 1:  Cost: 1.4086600542068481, Accuracy: 0.43079998195171354\n",
      "Epoch  6, CIFAR-10 Batch 1:  Cost: 1.2381020784378052, Accuracy: 0.4323999971151352\n",
      "Epoch  7, CIFAR-10 Batch 1:  Cost: 1.0599026679992676, Accuracy: 0.4731999903917313\n",
      "Epoch  8, CIFAR-10 Batch 1:  Cost: 0.9853070974349976, Accuracy: 0.44779998660087583\n",
      "Epoch  9, CIFAR-10 Batch 1:  Cost: 0.7977322340011597, Accuracy: 0.48980000913143157\n",
      "Epoch 10, CIFAR-10 Batch 1:  Cost: 0.6444305181503296, Accuracy: 0.5092000007629395\n",
      "Epoch 11, CIFAR-10 Batch 1:  Cost: 0.6218603253364563, Accuracy: 0.5083999961614609\n",
      "Epoch 12, CIFAR-10 Batch 1:  Cost: 0.5281276702880859, Accuracy: 0.5081999868154525\n",
      "Epoch 13, CIFAR-10 Batch 1:  Cost: 0.38630765676498413, Accuracy: 0.5225999891757965\n",
      "Epoch 14, CIFAR-10 Batch 1:  Cost: 0.3483978807926178, Accuracy: 0.5075999915599823\n",
      "Epoch 15, CIFAR-10 Batch 1:  Cost: 0.23563936352729797, Accuracy: 0.537199980020523\n"
     ]
    }
   ],
   "source": [
    "\"\"\"\n",
    "DON'T MODIFY ANYTHING IN THIS CELL\n",
    "\"\"\"\n",
    "print('Checking the Training on a Single Batch...')\n",
    "with tf.Session() as sess:\n",
    "    # Initializing the variables\n",
    "    sess.run(tf.global_variables_initializer())\n",
    "    \n",
    "    # Training cycle\n",
    "    for epoch in range(epochs):\n",
    "        batch_i = 1\n",
    "        for batch_features, batch_labels in helper.load_preprocess_training_batch(batch_i, batch_size):\n",
    "            train_neural_network(sess, optimizer, keep_probability, batch_features, batch_labels)\n",
    "        print('Epoch {:>2}, CIFAR-10 Batch {}:  '.format(epoch + 1, batch_i), end='')\n",
    "        print_stats(sess, batch_features, batch_labels, cost, accuracy)"
   ]
  },
  {
   "cell_type": "markdown",
   "metadata": {},
   "source": [
    "# Fully Train the Model\n",
    "Now that you got a good accuracy with a single CIFAR-10 batch, try it with all five batches."
   ]
  },
  {
   "cell_type": "code",
   "execution_count": 29,
   "metadata": {},
   "outputs": [
    {
     "name": "stdout",
     "output_type": "stream",
     "text": [
      "Training...\n",
      "Epoch  1, CIFAR-10 Batch 1:  Cost: 2.1315674781799316, Accuracy: 0.2522000029683113\n",
      "Epoch  1, CIFAR-10 Batch 2:  Cost: 1.8716741800308228, Accuracy: 0.33499999940395353\n",
      "Epoch  1, CIFAR-10 Batch 3:  Cost: 1.6374948024749756, Accuracy: 0.3351999968290329\n",
      "Epoch  1, CIFAR-10 Batch 4:  Cost: 1.6657648086547852, Accuracy: 0.3464000016450882\n",
      "Epoch  1, CIFAR-10 Batch 5:  Cost: 1.6499035358428955, Accuracy: 0.4157999962568283\n",
      "Epoch  2, CIFAR-10 Batch 1:  Cost: 1.6553279161453247, Accuracy: 0.4501999944448471\n",
      "Epoch  2, CIFAR-10 Batch 2:  Cost: 1.2678323984146118, Accuracy: 0.45960001051425936\n",
      "Epoch  2, CIFAR-10 Batch 3:  Cost: 1.3683488368988037, Accuracy: 0.4697999984025955\n",
      "Epoch  2, CIFAR-10 Batch 4:  Cost: 1.255799651145935, Accuracy: 0.4678000003099442\n",
      "Epoch  2, CIFAR-10 Batch 5:  Cost: 1.2388291358947754, Accuracy: 0.5147999942302703\n",
      "Epoch  3, CIFAR-10 Batch 1:  Cost: 1.33726966381073, Accuracy: 0.5253999888896942\n",
      "Epoch  3, CIFAR-10 Batch 2:  Cost: 1.1677221059799194, Accuracy: 0.4880000025033951\n",
      "Epoch  3, CIFAR-10 Batch 3:  Cost: 1.1551878452301025, Accuracy: 0.5345999836921692\n",
      "Epoch  3, CIFAR-10 Batch 4:  Cost: 1.0545976161956787, Accuracy: 0.547599995136261\n",
      "Epoch  3, CIFAR-10 Batch 5:  Cost: 1.064855933189392, Accuracy: 0.5473999977111816\n",
      "Epoch  4, CIFAR-10 Batch 1:  Cost: 1.0389440059661865, Accuracy: 0.5741999924182892\n",
      "Epoch  4, CIFAR-10 Batch 2:  Cost: 1.0346556901931763, Accuracy: 0.5583999812602997\n",
      "Epoch  4, CIFAR-10 Batch 3:  Cost: 1.0199915170669556, Accuracy: 0.5689999997615814\n",
      "Epoch  4, CIFAR-10 Batch 4:  Cost: 0.8566728234291077, Accuracy: 0.5771999955177307\n",
      "Epoch  4, CIFAR-10 Batch 5:  Cost: 0.9013235569000244, Accuracy: 0.5883999943733216\n",
      "Epoch  5, CIFAR-10 Batch 1:  Cost: 0.9159542918205261, Accuracy: 0.587199991941452\n",
      "Epoch  5, CIFAR-10 Batch 2:  Cost: 0.8138991594314575, Accuracy: 0.5965999841690064\n",
      "Epoch  5, CIFAR-10 Batch 3:  Cost: 0.8713839650154114, Accuracy: 0.5912000000476837\n",
      "Epoch  5, CIFAR-10 Batch 4:  Cost: 0.7188734412193298, Accuracy: 0.6089999973773956\n",
      "Epoch  5, CIFAR-10 Batch 5:  Cost: 0.7708232402801514, Accuracy: 0.6055999875068665\n",
      "Epoch  6, CIFAR-10 Batch 1:  Cost: 0.8158951997756958, Accuracy: 0.6208000004291534\n",
      "Epoch  6, CIFAR-10 Batch 2:  Cost: 0.7317295670509338, Accuracy: 0.6169999957084655\n",
      "Epoch  6, CIFAR-10 Batch 3:  Cost: 0.710344672203064, Accuracy: 0.614000016450882\n",
      "Epoch  6, CIFAR-10 Batch 4:  Cost: 0.6482102870941162, Accuracy: 0.6094000041484833\n",
      "Epoch  6, CIFAR-10 Batch 5:  Cost: 0.5477437973022461, Accuracy: 0.6253999829292297\n",
      "Epoch  7, CIFAR-10 Batch 1:  Cost: 0.6341509819030762, Accuracy: 0.6238000094890594\n",
      "Epoch  7, CIFAR-10 Batch 2:  Cost: 0.6272335648536682, Accuracy: 0.6111999869346618\n",
      "Epoch  7, CIFAR-10 Batch 3:  Cost: 0.6242442727088928, Accuracy: 0.6334000051021575\n",
      "Epoch  7, CIFAR-10 Batch 4:  Cost: 0.48365962505340576, Accuracy: 0.6491999983787536\n",
      "Epoch  7, CIFAR-10 Batch 5:  Cost: 0.43250298500061035, Accuracy: 0.626800000667572\n",
      "Epoch  8, CIFAR-10 Batch 1:  Cost: 0.48588111996650696, Accuracy: 0.6459999978542328\n",
      "Epoch  8, CIFAR-10 Batch 2:  Cost: 0.5448150634765625, Accuracy: 0.6583999872207642\n",
      "Epoch  8, CIFAR-10 Batch 3:  Cost: 0.386553019285202, Accuracy: 0.6527999818325043\n",
      "Epoch  8, CIFAR-10 Batch 4:  Cost: 0.3131360411643982, Accuracy: 0.6721999943256378\n",
      "Epoch  8, CIFAR-10 Batch 5:  Cost: 0.36259573698043823, Accuracy: 0.6494000077247619\n",
      "Epoch  9, CIFAR-10 Batch 1:  Cost: 0.43193718791007996, Accuracy: 0.6641999959945679\n",
      "Epoch  9, CIFAR-10 Batch 2:  Cost: 0.4283977746963501, Accuracy: 0.6687999963760376\n",
      "Epoch  9, CIFAR-10 Batch 3:  Cost: 0.22280965745449066, Accuracy: 0.6461999833583831\n",
      "Epoch  9, CIFAR-10 Batch 4:  Cost: 0.22936119139194489, Accuracy: 0.6800000011920929\n",
      "Epoch  9, CIFAR-10 Batch 5:  Cost: 0.25424498319625854, Accuracy: 0.6699999988079071\n",
      "Epoch 10, CIFAR-10 Batch 1:  Cost: 0.32469090819358826, Accuracy: 0.6622000098228454\n",
      "Epoch 10, CIFAR-10 Batch 2:  Cost: 0.27683499455451965, Accuracy: 0.671399998664856\n",
      "Epoch 10, CIFAR-10 Batch 3:  Cost: 0.17622937262058258, Accuracy: 0.6630000174045563\n",
      "Epoch 10, CIFAR-10 Batch 4:  Cost: 0.168330118060112, Accuracy: 0.6758000016212463\n",
      "Epoch 10, CIFAR-10 Batch 5:  Cost: 0.20743036270141602, Accuracy: 0.6705999970436096\n",
      "Epoch 11, CIFAR-10 Batch 1:  Cost: 0.26103395223617554, Accuracy: 0.6417999923229217\n",
      "Epoch 11, CIFAR-10 Batch 2:  Cost: 0.22088518738746643, Accuracy: 0.6718000113964081\n",
      "Epoch 11, CIFAR-10 Batch 3:  Cost: 0.0987679660320282, Accuracy: 0.6687999904155731\n",
      "Epoch 11, CIFAR-10 Batch 4:  Cost: 0.11735928058624268, Accuracy: 0.6661999940872192\n",
      "Epoch 11, CIFAR-10 Batch 5:  Cost: 0.1258428990840912, Accuracy: 0.6673999965190888\n",
      "Epoch 12, CIFAR-10 Batch 1:  Cost: 0.20445826649665833, Accuracy: 0.6674000084400177\n",
      "Epoch 12, CIFAR-10 Batch 2:  Cost: 0.12674538791179657, Accuracy: 0.6640000104904175\n",
      "Epoch 12, CIFAR-10 Batch 3:  Cost: 0.07928355038166046, Accuracy: 0.6559999704360961\n",
      "Epoch 12, CIFAR-10 Batch 4:  Cost: 0.07934927940368652, Accuracy: 0.6814000010490417\n",
      "Epoch 12, CIFAR-10 Batch 5:  Cost: 0.08418266475200653, Accuracy: 0.6744000077247619\n",
      "Epoch 13, CIFAR-10 Batch 1:  Cost: 0.10286357998847961, Accuracy: 0.6665999889373779\n",
      "Epoch 13, CIFAR-10 Batch 2:  Cost: 0.13635581731796265, Accuracy: 0.6761999905109406\n",
      "Epoch 13, CIFAR-10 Batch 3:  Cost: 0.12322769314050674, Accuracy: 0.6703999876976013\n",
      "Epoch 13, CIFAR-10 Batch 4:  Cost: 0.04766732454299927, Accuracy: 0.6813999831676483\n",
      "Epoch 13, CIFAR-10 Batch 5:  Cost: 0.08236125856637955, Accuracy: 0.6698000133037567\n",
      "Epoch 14, CIFAR-10 Batch 1:  Cost: 0.07768233865499496, Accuracy: 0.6796000242233277\n",
      "Epoch 14, CIFAR-10 Batch 2:  Cost: 0.11515462398529053, Accuracy: 0.6687999963760376\n",
      "Epoch 14, CIFAR-10 Batch 3:  Cost: 0.03880414739251137, Accuracy: 0.674999988079071\n",
      "Epoch 14, CIFAR-10 Batch 4:  Cost: 0.059356916695833206, Accuracy: 0.6772000014781951\n",
      "Epoch 14, CIFAR-10 Batch 5:  Cost: 0.04156877100467682, Accuracy: 0.673199987411499\n",
      "Epoch 15, CIFAR-10 Batch 1:  Cost: 0.054201673716306686, Accuracy: 0.6835999846458435\n",
      "Epoch 15, CIFAR-10 Batch 2:  Cost: 0.06001255288720131, Accuracy: 0.6625999987125397\n",
      "Epoch 15, CIFAR-10 Batch 3:  Cost: 0.035782694816589355, Accuracy: 0.675600004196167\n",
      "Epoch 15, CIFAR-10 Batch 4:  Cost: 0.03038591332733631, Accuracy: 0.6729999899864196\n",
      "Epoch 15, CIFAR-10 Batch 5:  Cost: 0.02729778178036213, Accuracy: 0.6714000046253205\n"
     ]
    }
   ],
   "source": [
    "\"\"\"\n",
    "DON'T MODIFY ANYTHING IN THIS CELL\n",
    "\"\"\"\n",
    "save_model_path = './image_classification'\n",
    "\n",
    "print('Training...')\n",
    "with tf.Session() as sess:\n",
    "    # Initializing the variables\n",
    "    sess.run(tf.global_variables_initializer())\n",
    "    \n",
    "    # Training cycle\n",
    "    for epoch in range(epochs):\n",
    "        # Loop over all batches\n",
    "        n_batches = 5\n",
    "        for batch_i in range(1, n_batches + 1):\n",
    "            for batch_features, batch_labels in helper.load_preprocess_training_batch(batch_i, batch_size):\n",
    "                train_neural_network(sess, optimizer, keep_probability, batch_features, batch_labels)\n",
    "            print('Epoch {:>2}, CIFAR-10 Batch {}:  '.format(epoch + 1, batch_i), end='')\n",
    "            print_stats(sess, batch_features, batch_labels, cost, accuracy)\n",
    "            \n",
    "    # Save Model\n",
    "    saver = tf.train.Saver()\n",
    "    save_path = saver.save(sess, save_model_path)"
   ]
  },
  {
   "cell_type": "markdown",
   "metadata": {},
   "source": [
    "# Checkpoint\n",
    "The model has been saved to disk.\n",
    "## Test Model\n",
    "Test your model against the test dataset.  This will be your final accuracy. You should have an accuracy greater than 50%. If you don't, keep tweaking the model architecture and parameters."
   ]
  },
  {
   "cell_type": "code",
   "execution_count": 17,
   "metadata": {},
   "outputs": [
    {
     "name": "stdout",
     "output_type": "stream",
     "text": [
      "Testing Accuracy: 0.647745253164557\n",
      "\n"
     ]
    },
    {
     "data": {
      "image/png": "[encoded data removed]",
      "text/plain": [
       "<matplotlib.figure.Figure at 0x7fd2a144df60>"
      ]
     },
     "metadata": {
      "image/png": {
       "height": 319,
       "width": 355
      }
     },
     "output_type": "display_data"
    }
   ],
   "source": [
    "\"\"\"\n",
    "DON'T MODIFY ANYTHING IN THIS CELL\n",
    "\"\"\"\n",
    "%matplotlib inline\n",
    "%config InlineBackend.figure_format = 'retina'\n",
    "\n",
    "import tensorflow as tf\n",
    "import pickle\n",
    "import helper\n",
    "import random\n",
    "\n",
    "# Set batch size if not already set\n",
    "try:\n",
    "    if batch_size:\n",
    "        pass\n",
    "except NameError:\n",
    "    batch_size = 64\n",
    "\n",
    "save_model_path = './image_classification'\n",
    "n_samples = 4\n",
    "top_n_predictions = 3\n",
    "\n",
    "def test_model():\n",
    "    \"\"\"\n",
    "    Test the saved model against the test dataset\n",
    "    \"\"\"\n",
    "\n",
    "    test_features, test_labels = pickle.load(open('preprocess_test.p', mode='rb'))\n",
    "    loaded_graph = tf.Graph()\n",
    "\n",
    "    with tf.Session(graph=loaded_graph) as sess:\n",
    "        # Load model\n",
    "        loader = tf.train.import_meta_graph(save_model_path + '.meta')\n",
    "        loader.restore(sess, save_model_path)\n",
    "\n",
    "        # Get Tensors from loaded model\n",
    "        loaded_x = loaded_graph.get_tensor_by_name('x:0')\n",
    "        loaded_y = loaded_graph.get_tensor_by_name('y:0')\n",
    "        loaded_keep_prob = loaded_graph.get_tensor_by_name('keep_prob:0')\n",
    "        loaded_logits = loaded_graph.get_tensor_by_name('logits:0')\n",
    "        loaded_acc = loaded_graph.get_tensor_by_name('accuracy:0')\n",
    "        \n",
    "        # Get accuracy in batches for memory limitations\n",
    "        test_batch_acc_total = 0\n",
    "        test_batch_count = 0\n",
    "        \n",
    "        for test_feature_batch, test_label_batch in helper.batch_features_labels(test_features, test_labels, batch_size):\n",
    "            test_batch_acc_total += sess.run(\n",
    "                loaded_acc,\n",
    "                feed_dict={loaded_x: test_feature_batch, loaded_y: test_label_batch, loaded_keep_prob: 1.0})\n",
    "            test_batch_count += 1\n",
    "\n",
    "        print('Testing Accuracy: {}\\n'.format(test_batch_acc_total/test_batch_count))\n",
    "\n",
    "        # Print Random Samples\n",
    "        random_test_features, random_test_labels = tuple(zip(*random.sample(list(zip(test_features, test_labels)), n_samples)))\n",
    "        random_test_predictions = sess.run(\n",
    "            tf.nn.top_k(tf.nn.softmax(loaded_logits), top_n_predictions),\n",
    "            feed_dict={loaded_x: random_test_features, loaded_y: random_test_labels, loaded_keep_prob: 1.0})\n",
    "        helper.display_image_predictions(random_test_features, random_test_labels, random_test_predictions)\n",
    "\n",
    "\n",
    "test_model()"
   ]
  },
  {
   "cell_type": "markdown",
   "metadata": {},
   "source": [
    "## Why 50-80% Accuracy?\n",
    "You might be wondering why you can't get an accuracy any higher. First things first, 50% isn't bad for a simple CNN.  Pure guessing would get you 10% accuracy. However, you might notice people are getting scores [well above 80%](http://rodrigob.github.io/are_we_there_yet/build/classification_datasets_results.html#43494641522d3130).  That's because we haven't taught you all there is to know about neural networks. We still need to cover a few more techniques.\n",
    "## Submitting This Project\n",
    "When submitting this project, make sure to run all the cells before saving the notebook.  Save the notebook file as \"dlnd_image_classification.ipynb\" and save it as a HTML file under \"File\" -> \"Download as\".  Include the \"helper.py\" and \"problem_unittests.py\" files in your submission."
   ]
  }
 ],
 "metadata": {
  "kernelspec": {
   "display_name": "Python 3",
   "language": "python",
   "name": "python3"
  },
  "language_info": {
   "codemirror_mode": {
    "name": "ipython",
    "version": 3
   },
   "file_extension": ".py",
   "mimetype": "text/x-python",
   "name": "python",
   "nbconvert_exporter": "python",
   "pygments_lexer": "ipython3",
   "version": "3.5.2"
  }
 },
 "nbformat": 4,
 "nbformat_minor": 1
}
